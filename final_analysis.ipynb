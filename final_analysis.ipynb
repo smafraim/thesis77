{
  "nbformat": 4,
  "nbformat_minor": 0,
  "metadata": {
    "colab": {
      "provenance": []
    },
    "kernelspec": {
      "name": "python3",
      "display_name": "Python 3"
    },
    "language_info": {
      "name": "python"
    }
  },
  "cells": [
    {
      "cell_type": "code",
      "execution_count": null,
      "metadata": {
        "id": "RZXpD9qwve2t"
      },
      "outputs": [],
      "source": [
        "import pandas as pd\n",
        "import numpy as np\n",
        "from sklearn.preprocessing import StandardScaler\n",
        "from sklearn.model_selection import train_test_split\n",
        "from sklearn.linear_model import LinearRegression, Lasso, Ridge\n",
        "from sklearn.neighbors import KNeighborsRegressor\n",
        "from sklearn.ensemble import ExtraTreesRegressor, RandomForestRegressor, BaggingRegressor, GradientBoostingRegressor\n",
        "from sklearn.svm import SVR\n",
        "from sklearn.metrics import mean_squared_error, r2_score\n",
        "import seaborn as sns\n",
        "import matplotlib.pyplot as plt\n",
        "\n",
        "# Mock data (based on the structure from earlier analysis)\n",
        "data = {\n",
        "    'latitude': [29.9671, 28.6732, 22.7449, 25.1089, 23.0704, 25.1793, 27.1518, 28.1507, 29.9216, 29.5132],\n",
        "    'longitude': [82.1727, 84.3555, 101.1232, 96.4115, 95.9626, 94.6614, 100.5409, 100.5776, 87.0502, 98.7281],\n",
        "    'depth': [17.214, 10.0, 13.156, 10.0, 10.0, 10.0, 10.0, 10.0, 10.0, 14.458],\n",
        "    'magnitude': [4.4, 4.2, 4.7, 4.5, 4.4, 4.2, 4.0, 4.3, 4.5, 4.6],\n",
        "    'nst': [28, 26, 100, 31, 26, 47, 23, 35, 53, 64],\n",
        "    'gap': [83, 163, 57, 120, 114, 101, 93, 82, 77, 76],\n",
        "    'dmin': [3.476, 1.192, 4.729, 4.121, 2.094, 3.719, 9.18, 8.219, 2.623, 7.666],\n",
        "    'rms': [0.75, 0.55, 0.56, 0.51, 0.9, 0.65, 0.52, 0.34, 0.58, 0.4]\n",
        "}\n",
        "\n",
        "# Convert data into DataFrame\n",
        "df = pd.DataFrame(data)\n",
        "\n",
        "# Normalize data\n",
        "scaler = StandardScaler()\n",
        "df_scaled = pd.DataFrame(scaler.fit_transform(df), columns=df.columns)\n",
        "\n",
        "# Correlation Matrix\n",
        "corr_matrix = df_scaled.corr()\n",
        "\n",
        "# Split data into train and test sets\n",
        "X = df_scaled.drop(columns=['magnitude'])\n",
        "y = df_scaled['magnitude']\n",
        "X_train, X_test, y_train, y_test = train_test_split(X, y, test_size=0.2, random_state=42)\n",
        "\n",
        "# Initialize models\n",
        "models = {\n",
        "    'Linear Regression': LinearRegression(),\n",
        "    'Lasso': Lasso(),\n",
        "    'Ridge': Ridge(),\n",
        "    'KNN': KNeighborsRegressor(),\n",
        "    'Extra Trees': ExtraTreesRegressor(),\n",
        "    'SVM': SVR(),\n",
        "    'Random Forest': RandomForestRegressor(),\n",
        "    'Bagging': BaggingRegressor(),\n",
        "    'Gradient Boosting': GradientBoostingRegressor()\n",
        "}\n",
        "\n",
        "# Dictionary to store results\n",
        "results = {}\n",
        "\n",
        "# Fit models and collect results\n",
        "for name, model in models.items():\n",
        "    model.fit(X_train, y_train)\n",
        "    y_pred = model.predict(X_test)\n",
        "    mse = mean_squared_error(y_test, y_pred)\n",
        "    r2 = r2_score(y_test, y_pred)\n",
        "    results[name] = {'MSE': mse, 'R2': r2}\n",
        "\n",
        "# Feature importance from Extra Trees\n",
        "extra_trees = ExtraTreesRegressor()\n",
        "extra_trees.fit(X_train, y_train)\n",
        "feature_importances = extra_trees.feature_importances_\n",
        "\n",
        "# Plot correlation matrix\n",
        "plt.figure(figsize=(10, 8))\n",
        "sns.heatmap(corr_matrix, annot=True, cmap='coolwarm', linewidths=0.5)\n",
        "plt.title('Correlation Matrix')\n",
        "plt.show()\n",
        "\n",
        "# Output the results and feature importance\n",
        "results, feature_importances, df_scaled.columns[:-1]\n"
      ]
    },
    {
      "cell_type": "markdown",
      "source": [
        "({'Linear Regression': {'MSE': 4.332875885065431, 'R2': -6.625861557715164},\n",
        "  'Lasso': {'MSE': 0.6036931818181814, 'R2': -0.0625},\n",
        "  'Ridge': {'MSE': 1.0225493099206173, 'R2': -0.7996867854602878},\n",
        "  'KNN': {'MSE': 0.25252525252525265, 'R2': 0.555555555555555},\n",
        "  'Extra Trees': {'MSE': 0.9124368686868689, 'R2': -0.6058888888888905},\n",
        "  'SVM': {'MSE': 1.0427467017526293, 'R2': -0.8352341950846289},\n",
        "  'Random Forest': {'MSE': 0.49042929292929316, 'R2': 0.13684444444444344},\n",
        "  'Bagging': {'MSE': 0.6565656565656565, 'R2': -0.1555555555555561},\n",
        "  'Gradient Boosting': {'MSE': 0.8174882620035825, 'R2': -0.4387793411263061}},\n",
        " array([0.05238846, 0.0845332 , 0.14962622, 0.36561802, 0.16312272,\n",
        "        0.15496228, 0.0297491 ]),\n",
        " Index(['latitude', 'longitude', 'depth', 'magnitude', 'nst', 'gap', 'dmin'], dtype='object'))"
      ],
      "metadata": {
        "id": "sWcyhbjMvh_7"
      }
    }
  ]
}